{
 "cells": [
  {
   "cell_type": "markdown",
   "id": "e95bf5e3-432e-4d07-bec9-f05af72836dc",
   "metadata": {},
   "source": [
    "Q1. What is multiprocessing in python? Why is it useful?"
   ]
  },
  {
   "cell_type": "markdown",
   "id": "fa61e97a-5d87-47d2-ba3c-0c167d6aaac7",
   "metadata": {},
   "source": [
    "Python uses the term \"multiprocessing\" to describe a program's capacity to use several processors or CPU cores for concurrent task execution. It includes running several processes at once, each of which runs independently and has its own memory area. There may be one or more threads active within each process.\n",
    "\n",
    "Python's multiprocessing module offers a sophisticated interface for setting up and controlling processes. You can use a variety of inter-process communication protocols to spawn new processes, communicate with them, and synchronise their actions.\n",
    "\n",
    "Multiprocessing is useful in several scenarios:\n",
    "Improved Performance\n",
    "Efficient Resource Utilization\n",
    "Enhanced Responsiveness\n",
    "Fault Isolation\n",
    "Scaling on Multi-Core Systems"
   ]
  },
  {
   "cell_type": "markdown",
   "id": "f8dc969b-013e-4113-a2b2-5a081854da8c",
   "metadata": {},
   "source": [
    "Q2. What are the differences between multiprocessing and multithreading?"
   ]
  },
  {
   "cell_type": "markdown",
   "id": "2c638b7a-6e13-40db-8207-30fa017d1a14",
   "metadata": {},
   "source": [
    "Execution Model: Multiprocessing is the simultaneous operation of several processes, each of which executes independently and has its own memory space. On the other hand, multithreading entails operating many threads concurrently within a single process while sharing the same memory.\n",
    "\n",
    "Concurrency: When using several processors or CPU cores, processes can work simultaneously on various tasks. During multithreading, processes' threads operate concurrently through time-slicing on the same CPU core.\n",
    "\n",
    "Inter-process communication (IPC), which enables communication and data sharing across processes, is utilised in multiprocessing. It is possible to use a variety of IPC techniques, including pipes, queues, and shared memory. With multithreading, threads can communicate directly by using shared variables and share the same memory space.\n",
    "\n",
    "Resource Use: Multiprocessing makes efficient use of the available computing resources by using several processors or CPU cores. Running independently on a different core is each process. CPU time, memory, and other system resources are shared by multiple processes when multithreading is used."
   ]
  },
  {
   "cell_type": "markdown",
   "id": "fe4cf331-0b62-440f-9a8d-5a618b58fb26",
   "metadata": {},
   "source": [
    "Q3. Write a python code to create a process using the multiprocessing module."
   ]
  },
  {
   "cell_type": "code",
   "execution_count": 1,
   "id": "37349ca0-6001-4ab5-9486-11e2e0a38a27",
   "metadata": {},
   "outputs": [
    {
     "name": "stdout",
     "output_type": "stream",
     "text": [
      "Worker process executing.\n",
      "Main process executing.\n"
     ]
    }
   ],
   "source": [
    "import multiprocessing\n",
    "\n",
    "def worker():\n",
    "    \"\"\"Function to be executed in the child process.\"\"\"\n",
    "    print(\"Worker process executing.\")\n",
    "if __name__ == '__main__':\n",
    "    process = multiprocessing.Process(target=worker)\n",
    "    process.start()\n",
    "    process.join()\n",
    "    print(\"Main process executing.\")\n"
   ]
  },
  {
   "cell_type": "markdown",
   "id": "c4a7d825-be8e-4033-8bfd-3448010b7958",
   "metadata": {},
   "source": [
    "Q4. What is a multiprocessing pool in python? Why is it used?"
   ]
  },
  {
   "cell_type": "markdown",
   "id": "1232b62a-5c2b-4862-afc4-648747387368",
   "metadata": {},
   "source": [
    "A multiprocessing pool in Python is a technique offered by the multiprocessing module for the use of a pool of worker processes in concurrent task execution. Tasks are divided up among the available processes by the pool, enabling parallel execution and effective use of system resources.\n",
    "\n",
    "multiple processing.A high-level interface for creating and managing a pool of worker processes is provided by the Pool class. It provides ways for users to asynchronously submit jobs to the pool and receive the results. The jobs are automatically allocated among the chosen number of worker processes in the pool.\n",
    "\n",
    "The multiprocessing pool is used for several reasons:\n",
    "Parallel Execution\n",
    "Improved Performance\n",
    "Task Distribution and Load Balancing\n",
    "Synchronization and Result Retrieval\n",
    "Simplified Programming Model"
   ]
  },
  {
   "cell_type": "markdown",
   "id": "eba08a07-fd5f-400d-8d4f-15a79d039ec0",
   "metadata": {},
   "source": [
    "Q5. How can we create a pool of worker processes in python using the multiprocessing module?"
   ]
  },
  {
   "cell_type": "markdown",
   "id": "1dd8e2a3-a839-47e5-9940-a51da3fa0eef",
   "metadata": {},
   "source": [
    "Q6. Write a python program to create 4 processes, each process should print a different number using the\n",
    "multiprocessing module in python."
   ]
  },
  {
   "cell_type": "code",
   "execution_count": 2,
   "id": "97fd9250-befe-4693-b19c-014e21575151",
   "metadata": {},
   "outputs": [
    {
     "name": "stdout",
     "output_type": "stream",
     "text": [
      "Process 1: 1Process 3: 3Process 4: 4Process 2: 2\n",
      "\n",
      "\n",
      "\n"
     ]
    }
   ],
   "source": [
    "import multiprocessing\n",
    "\n",
    "def print_number(num):\n",
    "    \"\"\"Function to be executed by each process.\"\"\"\n",
    "    print(f\"Process {num}: {num}\")\n",
    "\n",
    "if __name__ == '__main__':\n",
    "    numbers = [1, 2, 3, 4]\n",
    "    pool = multiprocessing.Pool(processes=4)\n",
    "    pool.map(print_number, numbers)\n",
    "    pool.close()\n",
    "    pool.join()"
   ]
  },
  {
   "cell_type": "code",
   "execution_count": null,
   "id": "dcf53c4b-3f76-4258-9057-ff5619a301b9",
   "metadata": {},
   "outputs": [],
   "source": []
  }
 ],
 "metadata": {
  "kernelspec": {
   "display_name": "Python 3 (ipykernel)",
   "language": "python",
   "name": "python3"
  },
  "language_info": {
   "codemirror_mode": {
    "name": "ipython",
    "version": 3
   },
   "file_extension": ".py",
   "mimetype": "text/x-python",
   "name": "python",
   "nbconvert_exporter": "python",
   "pygments_lexer": "ipython3",
   "version": "3.10.8"
  }
 },
 "nbformat": 4,
 "nbformat_minor": 5
}
